{
 "cells": [
  {
   "cell_type": "code",
   "execution_count": 1,
   "id": "75776393-358c-45ef-ac53-d32a45a47689",
   "metadata": {},
   "outputs": [],
   "source": [
    "from pathlib import Path\n",
    "from flask import Flask\n",
    "from flask import request\n",
    "from flask import render_template\n",
    "from flask_ngrok import run_with_ngrok"
   ]
  },
  {
   "cell_type": "code",
   "execution_count": null,
   "id": "3b2b1c88-692f-4e58-bd67-ee234bca3007",
   "metadata": {},
   "outputs": [],
   "source": [
    "UPLOAD_FOLDER = 'static/img'\n",
    "app = Flask(__name__)\n",
    "# run_with_ngrok(app)   #starts ngrok when the app is run for colab\n",
    "@app.route('/', methods = ['GET', 'POST'])\n",
    "def upload_predict():\n",
    "    if request.method == 'POST':\n",
    "        img_file = request.files['image']\n",
    "        if img_file:            \n",
    "            path_save = Path(UPLOAD_FOLDER) / img_file.filename\n",
    "            img_file.save(path_save)\n",
    "            !rm -r static/pred\n",
    "            %run yolov5/detect.py --weights model_yolo/yolov5m_parrot8/weights/best.pt\\\n",
    "            --img 640\\\n",
    "            --conf 0.4\\\n",
    "            --source static/img/\\\n",
    "            --project static/\\\n",
    "            --name pred\n",
    "            !rm static/img/*\n",
    "            return render_template('index.html', img_loc= img_file.filename)\n",
    "    return render_template('index.html', img_loc=None)\n",
    "app.run()"
   ]
  }
 ],
 "metadata": {
  "kernelspec": {
   "display_name": "Python 3",
   "language": "python",
   "name": "python3"
  },
  "language_info": {
   "codemirror_mode": {
    "name": "ipython",
    "version": 3
   },
   "file_extension": ".py",
   "mimetype": "text/x-python",
   "name": "python",
   "nbconvert_exporter": "python",
   "pygments_lexer": "ipython3",
   "version": "3.9.2"
  }
 },
 "nbformat": 4,
 "nbformat_minor": 5
}
