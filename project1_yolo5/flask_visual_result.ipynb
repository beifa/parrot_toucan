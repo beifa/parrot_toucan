{
 "cells": [
  {
   "cell_type": "code",
   "execution_count": 1,
   "id": "75776393-358c-45ef-ac53-d32a45a47689",
   "metadata": {},
   "outputs": [],
   "source": [
    "from pathlib import Path\n",
    "from flask import Flask\n",
    "from flask import request\n",
    "from flask import render_template\n",
    "from flask_ngrok import run_with_ngrok"
   ]
  },
  {
   "cell_type": "code",
   "execution_count": 2,
   "id": "c4527cb8-fab3-4666-9216-23930c0ed1cf",
   "metadata": {},
   "outputs": [],
   "source": [
    "%mkdir -p static/img"
   ]
  },
  {
   "cell_type": "code",
   "execution_count": 4,
   "id": "cardiovascular-pharmacy",
   "metadata": {},
   "outputs": [
    {
     "name": "stdout",
     "output_type": "stream",
     "text": [
      "Cloning into 'yolov5'...\n",
      "remote: Enumerating objects: 6127, done.\u001b[K\n",
      "remote: Counting objects: 100% (147/147), done.\u001b[K\n",
      "remote: Compressing objects: 100% (86/86), done.\u001b[K\n",
      "remote: Total 6127 (delta 83), reused 97 (delta 61), pack-reused 5980\u001b[K\n",
      "Receiving objects: 100% (6127/6127), 8.73 MiB | 1.45 MiB/s, done.\n",
      "Resolving deltas: 100% (4172/4172), done.\n"
     ]
    }
   ],
   "source": [
    "!git clone https://github.com/ultralytics/yolov5"
   ]
  },
  {
   "cell_type": "code",
   "execution_count": null,
   "id": "3b2b1c88-692f-4e58-bd67-ee234bca3007",
   "metadata": {},
   "outputs": [],
   "source": [
    "UPLOAD_FOLDER = 'static/img'\n",
    "app = Flask(__name__)\n",
    "# run_with_ngrok(app)   #starts ngrok when the app is run for colab\n",
    "@app.route('/', methods = ['GET', 'POST'])\n",
    "def upload_predict():\n",
    "    if request.method == 'POST':\n",
    "        img_file = request.files['image']\n",
    "        if img_file:            \n",
    "            path_save = Path(UPLOAD_FOLDER) / img_file.filename\n",
    "            img_file.save(path_save)\n",
    "            !rm -r static/pred\n",
    "            %run yolov5/detect.py --weights model_yolo/yolov5m_parrot8/weights/best.pt\\\n",
    "            --img 640\\\n",
    "            --conf 0.4\\\n",
    "            --source static/img/\\\n",
    "            --project static/\\\n",
    "            --name pred\n",
    "            !rm static/img/*\n",
    "            return render_template('index.html', img_loc= img_file.filename)\n",
    "    return render_template('index.html', img_loc=None)\n",
    "app.run()"
   ]
  }
 ],
 "metadata": {
  "kernelspec": {
   "display_name": "Python 3",
   "language": "python",
   "name": "python3"
  },
  "language_info": {
   "codemirror_mode": {
    "name": "ipython",
    "version": 3
   },
   "file_extension": ".py",
   "mimetype": "text/x-python",
   "name": "python",
   "nbconvert_exporter": "python",
   "pygments_lexer": "ipython3",
   "version": "3.9.2"
  }
 },
 "nbformat": 4,
 "nbformat_minor": 5
}
