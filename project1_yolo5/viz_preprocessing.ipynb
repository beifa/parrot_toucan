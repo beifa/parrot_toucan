{
 "cells": [
  {
   "cell_type": "code",
   "execution_count": null,
   "id": "d57f7056-f48a-4d11-bcb7-ec0ef5b8590e",
   "metadata": {},
   "outputs": [],
   "source": [
    "!pip install flask==0.12.2\n",
    "!pip install flask-ngrok"
   ]
  },
  {
   "cell_type": "code",
   "execution_count": 1,
   "id": "71a1d313-6f18-4e7a-b349-df0eaa3dd844",
   "metadata": {},
   "outputs": [],
   "source": [
    "%mkdir static\n",
    "%mkdir templates"
   ]
  },
  {
   "cell_type": "markdown",
   "id": "26af3ff0-ee7a-47a3-a57d-076ed04a69e9",
   "metadata": {},
   "source": [
    "download(css&js) from # https://getbootstrap.com/docs/5.0/getting-started/download/"
   ]
  },
  {
   "cell_type": "code",
   "execution_count": null,
   "id": "4c5d1c36-376e-4d31-b80e-0cabc37c8247",
   "metadata": {},
   "outputs": [],
   "source": [
    "%cp -r '../parrot_toucan/bootstrap/js' 'static/'\n",
    "%cp -r '../parrot_toucan/bootstrap/css' 'static/'"
   ]
  },
  {
   "cell_type": "code",
   "execution_count": null,
   "id": "3a354177-f741-4d37-ba42-a93a30975857",
   "metadata": {},
   "outputs": [],
   "source": [
    "%%writefile static/css/form_upload.css\n",
    "\n",
    "html,\n",
    "body {\n",
    "  height: 100%;\n",
    "}\n",
    "body {\n",
    "  display: flex;\n",
    "  align-items: center;\n",
    "  padding-top: 40px;\n",
    "  padding-bottom: 40px;\n",
    "  background-color: #f5f5f5;\n",
    "}\n",
    ".form-upload {\n",
    "  width: 100%;\n",
    "  max-width: 330px;\n",
    "  padding: 15px;\n",
    "  margin: auto;\n",
    "}\n",
    ".form-upload .checkbox {\n",
    "  font-weight: 400;\n",
    "}\n",
    "\n",
    ".form-upload .form-floating:focus-within {\n",
    "  z-index: 2;\n",
    "}"
   ]
  },
  {
   "cell_type": "code",
   "execution_count": null,
   "id": "f4d589f3-a4bd-4e0d-b6fe-f24ee3268f67",
   "metadata": {},
   "outputs": [],
   "source": [
    "%%writefile templates/index.html\n",
    "\n",
    "<!doctype html>\n",
    "<html>\n",
    "  <head>\n",
    "    <meta charset=\"utf-8\">\n",
    "    <meta name=\"viewport\" content=\"width=device-width, initial-scale=1, shrink-to-fit=no\">    \n",
    "    <title>Find parrot&toucan</title> \n",
    "    <!-- Bootstrap core CSS -->\n",
    "    <link href=\"/static/css/bootstrap.min.css\" rel=\"stylesheet\">\n",
    "    <!-- Custom styles for this template -->\n",
    "    <link href=\"/static/css/form_upload.css\" rel=\"stylesheet\">\n",
    "  </head>\n",
    "  <body class=\"text-center\">   \n",
    "    <main class=\"form-upload\">\n",
    "        <form  method=post enctype=multipart/form-data>  \n",
    "            <h1 class=\"h3 mb-3 fw-normal\">Upload image</h1>\n",
    "            {%if img_loc%}\n",
    "            <img class=\"mb-4\" src=\"/static/pred/{{img_loc}}\" alt=\"\" width=\"360\" height=\"360\">\n",
    "            {%endif%}\n",
    "            <input type=\"file\" name=\"image\" id=\"image\" class=\"form-control\">\n",
    "            <button class=\"w-100 btn btn-lg btn-primary\" type=\"submit\">Predict</button>            \n",
    "        </form>\n",
    "    </main>    \n",
    "  </body>\n",
    "</html>"
   ]
  }
 ],
 "metadata": {
  "kernelspec": {
   "display_name": "Python 3",
   "language": "python",
   "name": "python3"
  },
  "language_info": {
   "codemirror_mode": {
    "name": "ipython",
    "version": 3
   },
   "file_extension": ".py",
   "mimetype": "text/x-python",
   "name": "python",
   "nbconvert_exporter": "python",
   "pygments_lexer": "ipython3",
   "version": "3.9.2"
  }
 },
 "nbformat": 4,
 "nbformat_minor": 5
}
